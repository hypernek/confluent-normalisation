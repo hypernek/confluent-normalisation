{
 "cells": [
  {
   "cell_type": "code",
   "execution_count": 11,
   "metadata": {
    "scrolled": true
   },
   "outputs": [
    {
     "data": {
      "text/html": [
       "<html><script type=\"math/tex; mode=display\">\\newcommand{\\Bold}[1]{\\mathbf{#1}}\\verb|Enter|\\phantom{\\verb!x!}\\verb|basis|\\phantom{\\verb!x!}\\verb|coefficients,|\\phantom{\\verb!x!}\\verb|separated|\\phantom{\\verb!x!}\\verb|by|\\phantom{\\verb!x!}\\verb|commas|</script></html>"
      ],
      "text/plain": [
       "\\text{\\texttt{Enter{ }basis{ }coefficients,{ }separated{ }by{ }commas}}"
      ]
     },
     "metadata": {},
     "output_type": "display_data"
    },
    {
     "data": {
      "application/vnd.jupyter.widget-view+json": {
       "model_id": "da1ae7efc8484e4fa70b064d852f44da",
       "version_major": 2,
       "version_minor": 0
      },
      "text/plain": [
       "Interactive function <function _input_coefficients at 0x6fe40d382f0> with 1 widget\n",
       "  coefficients: Text(value=…"
      ]
     },
     "metadata": {},
     "output_type": "display_data"
    },
    {
     "data": {
      "text/html": [
       "<html><script type=\"math/tex; mode=display\">\\newcommand{\\Bold}[1]{\\mathbf{#1}}\\verb|Enter|\\phantom{\\verb!x!}\\verb|the|\\phantom{\\verb!x!}\\verb|largest|\\phantom{\\verb!x!}\\verb|digit|\\phantom{\\verb!x!}\\verb|of|\\phantom{\\verb!x!}\\verb|the|\\phantom{\\verb!x!}\\verb|input|\\phantom{\\verb!x!}\\verb|alphabet|</script></html>"
      ],
      "text/plain": [
       "\\text{\\texttt{Enter{ }the{ }largest{ }digit{ }of{ }the{ }input{ }alphabet{ }}}"
      ]
     },
     "metadata": {},
     "output_type": "display_data"
    },
    {
     "data": {
      "application/vnd.jupyter.widget-view+json": {
       "model_id": "8d5e85c893464428b8ebf6f8c19d3f93",
       "version_major": 2,
       "version_minor": 0
      },
      "text/plain": [
       "Interactive function <function _input_c at 0x6fe40670d90> with 1 widget\n",
       "  c: Text(value='4', description='c')"
      ]
     },
     "metadata": {},
     "output_type": "display_data"
    },
    {
     "data": {
      "text/html": [
       "<html><script type=\"math/tex; mode=display\">\\newcommand{\\Bold}[1]{\\mathbf{#1}}\\verb|Tick|\\phantom{\\verb!x!}\\verb|to|\\phantom{\\verb!x!}\\verb|see|\\phantom{\\verb!x!}\\verb|how|\\phantom{\\verb!x!}\\verb|the|\\phantom{\\verb!x!}\\verb|converters|\\phantom{\\verb!x!}\\verb|are|\\phantom{\\verb!x!}\\verb|constructed|</script></html>"
      ],
      "text/plain": [
       "\\text{\\texttt{Tick{ }to{ }see{ }how{ }the{ }converters{ }are{ }constructed}}"
      ]
     },
     "metadata": {},
     "output_type": "display_data"
    },
    {
     "data": {
      "application/vnd.jupyter.widget-view+json": {
       "model_id": "0a58e22d941547c2a2df46c177be5d02",
       "version_major": 2,
       "version_minor": 0
      },
      "text/plain": [
       "Interactive function <function _input_verbose at 0x6fe4065f730> with 1 widget\n",
       "  verbose: Checkbox(value=False,…"
      ]
     },
     "metadata": {},
     "output_type": "display_data"
    },
    {
     "data": {
      "text/html": [
       "<html><script type=\"math/tex; mode=display\">\\newcommand{\\Bold}[1]{\\mathbf{#1}}\\verb|When|\\phantom{\\verb!x!}\\verb|you|\\phantom{\\verb!x!}\\verb|are|\\phantom{\\verb!x!}\\verb|done,|\\phantom{\\verb!x!}\\verb|run|\\phantom{\\verb!x!}\\verb|the|\\phantom{\\verb!x!}\\verb|next|\\phantom{\\verb!x!}\\verb|cell|</script></html>"
      ],
      "text/plain": [
       "\\text{\\texttt{When{ }you{ }are{ }done,{ }run{ }the{ }next{ }cell}}"
      ]
     },
     "metadata": {},
     "output_type": "display_data"
    }
   ],
   "source": [
    "pretty_print(latex(\"Enter basis coefficients, separated by commas\"))\n",
    "\n",
    "@interact\n",
    "def _input_coefficients(coefficients=\"2,1\"):\n",
    "    global Basis_Coeffs \n",
    "    Basis_Coeffs = list(map(int, coefficients.split(\",\"))) # convert to list of ints\n",
    "    basis_expr = \"\"\n",
    "    \n",
    "    for i in range(len(Basis_Coeffs)-1):\n",
    "        basis_expr += f'{Basis_Coeffs[i]}B_{{n-{i+1}}} +'\n",
    "    basis_expr += f'{Basis_Coeffs[len(Basis_Coeffs)-1]}B_{{n-{len(Basis_Coeffs)-1}}}'\n",
    "    pretty_print(latex(\"Basis recurrence:\"))\n",
    "    pretty_print(LatexExpr('B_n = ') + LatexExpr(basis_expr))\n",
    "    global a \n",
    "    a = Basis_Coeffs[0]\n",
    "    global A\n",
    "    A = list(range(int(a)+1))\n",
    "    A_set = set(A) # conversion to set so that we have curly braces\n",
    "    pretty_print(latex(\"Canonical alphabet: \") + LatexExpr('\\\\; A = ') + LatexExpr(latex(A_set)))\n",
    "    \n",
    "pretty_print(latex(\"Enter the largest digit of the input alphabet \"))\n",
    "@interact\n",
    "def _input_c(c=\"4\"):\n",
    "    global C, input_c , C_set\n",
    "    if(c == \"\") or not(c.isdigit()):\n",
    "        pretty_print(latex(\"Please enter \")+ LatexExpr('\\\\; c \\\\geq a =') + f'{a}') # so that no errors appear\n",
    "        return\n",
    "    else:\n",
    "        input_c = int(c)\n",
    "        if(input_c < a):\n",
    "            pretty_print(latex(\"Please enter \")+ LatexExpr('\\\\; c \\\\geq a =') + f'{a}')\n",
    "            return\n",
    "        C = list(range(input_c+1))\n",
    "        C_set = set(C)\n",
    "        pretty_print(latex(\"Input alphabet: \") + LatexExpr('\\\\; C = ') + LatexExpr(latex(C_set)))\n",
    "\n",
    "pretty_print(latex(\"Tick to see how the converters are constructed\"))\n",
    "@interact\n",
    "def _input_verbose(verbose=False):\n",
    "    global input_verbose\n",
    "    input_verbose = verbose\n",
    "\n",
    "pretty_print(latex(\"When you are done, run the next cell\"))"
   ]
  },
  {
   "cell_type": "code",
   "execution_count": 15,
   "metadata": {
    "scrolled": false
   },
   "outputs": [
    {
     "name": "stdout",
     "output_type": "stream",
     "text": [
      "Basis is confluent:  True\n",
      "basis polynomial: y^3 - 3*y^2 - 3*y - 1\n",
      "beta = 3.847322101863073?\n",
      "\n",
      "Input alphabet: [0, 1, 2, 3, 4, 5, 6] \n",
      "Canonical alphabet: [0, 1, 2, 3]\n",
      "\n",
      "Starting construction of on-line converter...\n",
      "delay: delta = 3\n",
      "input extra zeros: k = 1\n",
      "\n",
      "Generating transient states...\n",
      "Transient states done.\n",
      "\n",
      "Generating synchronous states... \n",
      "\n",
      "Making B-representation of number 61 of size 3 on alphabet [0, 1, 2, 3]\n",
      "max representable value: 63\n",
      "Representation: [3, 3, 1]\n",
      "\n",
      "Making B-representation of number 61 of size 3 on alphabet [0, 1, 2, 3]\n",
      "max representable value: 63\n",
      "Representation: [3, 3, 1]\n",
      "Synchronous states done.\n",
      "\n",
      "All states processed, On-line Converter ready\n",
      "Building left normaliser...\n",
      "Left normaliser finished\n",
      "Building right normaliser...\n",
      "Right normaliser finished\n"
     ]
    },
    {
     "data": {
      "text/html": [
       "<html><script type=\"math/tex; mode=display\">\\newcommand{\\Bold}[1]{\\mathbf{#1}}\\verb|Now|\\phantom{\\verb!x!}\\verb|run|\\phantom{\\verb!x!}\\verb|the|\\phantom{\\verb!x!}\\verb|next|\\phantom{\\verb!x!}\\verb|cell|</script></html>"
      ],
      "text/plain": [
       "\\text{\\texttt{Now{ }run{ }the{ }next{ }cell}}"
      ]
     },
     "metadata": {},
     "output_type": "display_data"
    }
   ],
   "source": [
    "load('Online_Conversion.py')\n",
    "load('Confluent_Normalisation.py')\n",
    "\n",
    "CACConverter = OnlineConverter(Basis_Coeffs,input_c,input_verbose)\n",
    "Gamma = left_normaliser(Basis_Coeffs,input_verbose)\n",
    "Delta = right_normaliser(Basis_Coeffs,input_verbose)\n",
    "\n",
    "pretty_print(latex(\"Now run the next cell\"))"
   ]
  },
  {
   "cell_type": "code",
   "execution_count": 16,
   "metadata": {},
   "outputs": [
    {
     "data": {
      "text/html": [
       "<html><script type=\"math/tex; mode=display\">\\newcommand{\\Bold}[1]{\\mathbf{#1}}\\verb|Enter|\\phantom{\\verb!x!}\\verb|word|\\phantom{\\verb!x!}\\verb|over|\\phantom{\\verb!x!}\\verb|input|\\phantom{\\verb!x!}\\verb|alphabet| \\; C = \\verb|{0,|\\phantom{\\verb!x!}\\verb|1,|\\phantom{\\verb!x!}\\verb|2,|\\phantom{\\verb!x!}\\verb|3,|\\phantom{\\verb!x!}\\verb|4,|\\phantom{\\verb!x!}\\verb|5,|\\phantom{\\verb!x!}\\verb|6}|</script></html>"
      ],
      "text/plain": [
       "\\text{\\texttt{Enter{ }word{ }over{ }input{ }alphabet{ }}} \\; C = \\text{\\texttt{{\\char`\\{}0,{ }1,{ }2,{ }3,{ }4,{ }5,{ }6{\\char`\\}}}}"
      ]
     },
     "metadata": {},
     "output_type": "display_data"
    },
    {
     "data": {
      "application/vnd.jupyter.widget-view+json": {
       "model_id": "e2de6a8ce68543aeba8cb639dbc7a4f6",
       "version_major": 2,
       "version_minor": 0
      },
      "text/plain": [
       "Interactive function <function _interact_normalise at 0x6fe3dbd4950> with 2 widgets\n",
       "  w: Text(value='0', descr…"
      ]
     },
     "metadata": {},
     "output_type": "display_data"
    }
   ],
   "source": [
    "pretty_print(latex(\"Enter word over input alphabet \") + LatexExpr('\\\\; C = ') + LatexExpr(latex(C_set)))\n",
    "\n",
    "@interact\n",
    "def _interact_normalise(w=\"0\", show_terminal_state=False):\n",
    "    #nonlocal CACConverter, Gamma, Delta\n",
    "    if(w == \"\") or not(c.isdigit()):\n",
    "        print(\"\")\n",
    "        return\n",
    "    else:\n",
    "        input_representation = list(map(int,list(w))) # convert to list of ints\n",
    "        y = CACConverter.convert(input_representation)[2]\n",
    "        pretty_print(latex(\"Result of conversion by \") + LatexExpr(\"\\\\; \\\\cal{{C}}_{{C\\\\times A}}\") + latex(\":\"))\n",
    "        print(\"\".join(map(str, y)))\n",
    "        greedy_w = normalise( Gamma, Delta, y)\n",
    "        pretty_print(latex(\"Result of normalisation by \")+ LatexExpr(\"\\\\; \\\\Gamma_A \\\\circ \\\\Delta_A\") + latex(\":\"))\n",
    "        print(\"\".join(map(str, greedy_w)))"
   ]
  },
  {
   "cell_type": "code",
   "execution_count": 19,
   "metadata": {},
   "outputs": [
    {
     "name": "stdout",
     "output_type": "stream",
     "text": [
      "Converter statistics:\n",
      " - Input alpabet: C = [0, 1, 2, 3, 4, 5, 6] \n",
      " - Output alphabet: A = [0, 1, 2, 3]\n",
      " - Number of states: 455\n",
      " - Delay: delta = 3\n",
      " - Initial zeros: k = 1\n",
      " - States: Q = [('q_0', 0), ('q_1', 0), ('q_2', 0), 0, 1, 2, 3, 4, 5, 6, ('q_2', 1), x, x + 1, x + 2, x + 3, x + 4, x + 5, x + 6, ('q_2', 2), 2*x, 2*x + 1, 2*x + 2, 2*x + 3, 2*x + 4, 2*x + 5, 2*x + 6, ('q_2', 3), 3*x, 3*x + 1, 3*x + 2, 3*x + 3, 3*x + 4, 3*x + 5, 3*x + 6, ('q_2', 4), 4*x, 4*x + 1, 4*x + 2, 4*x + 3, 4*x + 4, 4*x + 5, 4*x + 6, ('q_2', 5), 5*x, 5*x + 1, 5*x + 2, 5*x + 3, 5*x + 4, 5*x + 5, 5*x + 6, ('q_2', 6), 6*x, 6*x + 1, 6*x + 2, 6*x + 3, 6*x + 4, 6*x + 5, 6*x + 6, 3*x^2 + 3*x - 1, 3*x^2 + 3*x, 3*x^2, 3*x^2 + 1, 3*x^2 + 2, 3*x^2 + 3, 3*x^2 + 4, 3*x^2 + 5, 3*x^2 + 6, 3*x^2 - x, 3*x^2 - x + 1, 3*x^2 - x + 2, 3*x^2 - x + 3, 3*x^2 - x + 4, 3*x^2 - x + 5, 3*x^2 - x + 6, -x^2 + 6*x, -x^2 + 6*x + 1, -x^2 + 6*x + 2, -x^2 + 6*x + 3, -x^2 + 6*x + 4, -x^2 + 6*x + 5, -x^2 + 6*x + 6, 3*x^2 + 2*x - 1, 3*x^2 + 2*x, 3*x^2 + 2*x + 1, 3*x^2 + 2*x + 2, 3*x^2 + 2*x + 3, 3*x^2 + 2*x + 4, -x + 4, -x^2 + 4*x, -x^2 + 4*x + 1, -x^2 + 4*x + 2, -x^2 + 4*x + 3, -x^2 + 4*x + 4, -x^2 + 4*x + 5, -x^2 + 4*x + 6, x^2 + 3*x - 1, x^2 + 3*x, x^2 + 3*x + 1, x^2 + 3*x + 2, x^2 + 3*x + 3, x^2 + 3*x + 4, x^2 + 3*x + 5, 2*x - 1, 2*x^2 - x, 2*x^2 - x + 1, 2*x^2 - x + 2, 2*x^2 - x + 3, 2*x^2 - x + 4, 2*x^2 - x + 5, 2*x^2 - x + 6, -x^2 + 5*x, -x^2 + 5*x + 1, -x^2 + 5*x + 2, -x^2 + 5*x + 3, -x^2 + 5*x + 4, -x^2 + 5*x + 5, -x^2 + 5*x + 6, 2*x^2 + 3*x - 1, 2*x^2 + 3*x, 2*x^2 + 3*x + 1, 2*x^2 + 3*x + 2, 2*x^2 + 3*x + 3, 2*x^2 + 3*x + 4, 2*x^2 + 3*x + 5, x - 1, x^2 - x, x^2 - x + 1, x^2 - x + 2, x^2 - x + 3, x^2 - x + 4, x^2 - x + 5, x^2 - x + 6, 2*x^2 + 6*x + 1, 2*x^2 + 6*x + 2, 2*x^2 + 6*x + 3, 2*x^2 + 6*x + 4, -x^2 + 3*x + 4, -x^2 + 3*x + 5, -x^2 + 3*x + 6, 3*x - 1, 3*x^2 + x - 1, 3*x^2 + x, 3*x^2 + x + 1, 3*x^2 + x + 2, 3*x^2 + x + 3, 3*x^2 + x + 4, 3*x^2 + x + 5, x^2 + 5*x, x^2 + 5*x + 1, x^2 + 5*x + 2, x^2 + 5*x + 3, x^2 + 5*x + 4, x^2 + 5*x + 5, x^2 + 5*x + 6, 2*x^2 + 2*x - 1, 2*x^2 + 2*x, 2*x^2 + 2*x + 1, 2*x^2 + 2*x + 2, 2*x^2 + 2*x + 3, 2*x^2 + 2*x + 4, 2*x^2 + 2*x + 5, 2*x^2 + 5*x, 2*x^2 + 5*x + 1, 2*x^2 + 5*x + 2, 2*x^2 + 5*x + 3, 2*x^2 + 5*x + 4, 2*x^2 + 5*x + 5, 2*x^2 + 5*x + 6, 2*x^2 + x - 1, 2*x^2 + x, 2*x^2 + x + 1, 2*x^2 + x + 2, 2*x^2 + x + 3, 2*x^2 + x + 4, 2*x^2 + x + 5, x^2 + 4*x, x^2 + 4*x + 1, x^2 + 4*x + 2, x^2 + 4*x + 3, x^2 + 4*x + 4, x^2 + 4*x + 5, x^2 + 4*x + 6, x^2 + 2*x - 1, x^2 + 2*x, x^2 + 2*x + 1, x^2 + 2*x + 2, x^2 + 2*x + 3, x^2 + 2*x + 4, x^2 + 2*x + 5, 2*x^2 + 4*x, 2*x^2 + 4*x + 1, 2*x^2 + 4*x + 2, 2*x^2 + 4*x + 3, 2*x^2 + 4*x + 4, 2*x^2 + 4*x + 5, 2*x^2 + 4*x + 6, x^2 + x - 1, x^2 + x, x^2 + x + 1, x^2 + x + 2, x^2 + x + 3, x^2 + x + 4, x^2 + x + 5, x^2 + 3*x + 6, x^2 + 2*x + 6, 2*x^2 + 6*x, 3*x^2 - 3*x - 1, 3*x^2 - 3*x, 3*x^2 - 3*x + 1, 3*x^2 - 3*x + 2, 3*x^2 - 3*x + 3, 3*x^2 - 3*x + 4, 3*x^2 - 3*x + 5, 8*x + 1, 8*x + 2, 8*x + 3, 8*x + 4, 8*x + 5, 8*x + 6, 8*x + 7, 2*x^2 + x - 2, x^2 - 2*x, x^2 - 2*x + 1, x^2 - 2*x + 2, x^2 - 2*x + 3, x^2 - 2*x + 4, x^2 - 2*x + 5, x^2 - 2*x + 6, x^2 + 9*x + 1, x^2 + 9*x + 2, x^2 + 9*x + 3, x^2 + 9*x + 4, x^2 + 9*x + 5, x^2 + 9*x + 6, x^2 + 9*x + 7, 3*x^2 + x - 2, 3*x^2 - 2, 3*x^2 - 1, -x + 5, -x + 6, 3*x^2 + x + 6, 3*x^2 + x + 7, x^2 + 7*x, x^2 + 7*x + 1, x^2 + 7*x + 2, x^2 + 7*x + 3, x^2 + 7*x + 4, x^2 + 7*x + 5, x^2 + 7*x + 6, x^2 - 2, x^2 - 1, x^2, x^2 + 1, x^2 + 2, x^2 + 3, x^2 + 4, x^2 - x - 2, x^2 - x - 1, 2*x^2 + 2*x + 6, 2*x^2 + 2*x + 7, 2*x^2 + 7*x, 4*x^2 - 3*x - 1, 4*x^2 - 3*x, 4*x^2 - 3*x + 1, 4*x^2 - 3*x + 2, 4*x^2 - 3*x + 3, 4*x^2 - 3*x + 4, 4*x^2 - 3*x + 5, 7*x + 1, 7*x + 2, 7*x + 3, 7*x + 4, 7*x + 5, 7*x + 6, 7*x + 7, x^2 + x - 2, x^2 - 2*x - 2, x^2 - 2*x - 1, x^2 + 2*x + 7, x^2 + x + 6, x^2 + x + 7, x^2 + 6*x, x^2 + 6*x + 1, x^2 + 6*x + 2, x^2 + 6*x + 3, x^2 + 6*x + 4, x^2 + 6*x + 5, x^2 + 6*x + 6, 3*x^2 - x - 1, 3*x^2 - 2*x - 1, 3*x^2 - 2*x, 3*x^2 - 2*x + 1, 3*x^2 - 2*x + 2, 3*x^2 - 2*x + 3, 3*x^2 - 2*x + 4, 3*x^2 - 2*x + 5, x^2 + 8*x + 1, x^2 + 8*x + 2, x^2 + 8*x + 3, x^2 + 8*x + 4, x^2 + 8*x + 5, x^2 + 8*x + 6, x^2 + 8*x + 7, 2*x^2 - 2, 2*x^2 - 1, 2*x^2, 2*x^2 + 1, 2*x^2 + 2, 2*x^2 + 3, 2*x^2 + 4, 2*x^2 - x - 2, 2*x^2 - x - 1, 2*x^2 + x + 6, 2*x^2 + x + 7, 2*x^2 - 2*x - 2, 2*x^2 - 2*x - 1, 2*x^2 - 2*x, 2*x^2 - 2*x + 1, 2*x^2 - 2*x + 2, 2*x^2 - 2*x + 3, 2*x^2 - 2*x + 4, x^2 + 7*x + 7, x^2 + 6*x + 7, x - 2, x^2 + 5*x + 7, 2*x^2 + 4*x - 1, 4*x^2 - x, 4*x^2 - x + 1, x^2 - 4*x + 1, x^2 - 4*x + 2, x^2 - 4*x + 3, x^2 - 4*x + 4, x^2 - 4*x + 5, -x^2 + 8*x + 1, -x^2 + 8*x + 2, -x^2 + 8*x + 3, -x^2 + 8*x + 4, -x^2 + 8*x + 5, -x^2 + 8*x + 6, -x^2 + 8*x + 7, 2*x^2 - 3*x - 2, 2*x^2 - 3*x - 1, 2*x^2 - 3*x, 2*x^2 - 3*x + 1, 2*x^2 - 3*x + 2, 2*x^2 - 3*x + 3, 2*x^2 - 3*x + 4, 6*x + 7, 5*x + 7, 4*x + 7, x^2 + 4*x - 1, 3*x + 7, 4*x - 1, 2*x + 7, x + 7, 2*x^2 - 4*x - 2, 2*x^2 - 4*x - 1, 2*x^2 - 4*x, 2*x^2 - 4*x + 1, 2*x^2 - 4*x + 2, 2*x^2 - 4*x + 3, 2*x^2 - 4*x + 4, -x^2 + 7*x + 1, -x^2 + 7*x + 2, -x^2 + 7*x + 3, -x^2 + 7*x + 4, -x^2 + 7*x + 5, -x^2 + 7*x + 6, -x^2 + 7*x + 7, x^2 - 3*x - 2, x^2 - 3*x - 1, x^2 - 3*x, x^2 - 3*x + 1, x^2 - 3*x + 2, x^2 - 3*x + 3, x^2 - 3*x + 4, 4*x^2 - x - 1, 4*x^2 - 2*x - 1, 4*x^2 - 2*x, 4*x^2 - 2*x + 1, 4*x^2 - 2*x + 2, 4*x^2 - 2*x + 3, 4*x^2 - 2*x + 4, 4*x^2 - 2*x + 5, x^2 + 4*x + 7, x^2 + 3*x + 7, -x^2 + 6*x + 7, -x^2 + 5*x + 7, -x^2 + 4*x + 7, -x^2 + 3*x + 7, 2*x^2 + 5*x + 7, 2*x^2 + 5*x + 8, 2*x^2 + 5*x - 1, 2*x^2 - 4*x + 5, 2*x^2 + 4*x + 7, 2*x^2 + 4*x + 8, x^2 + 5*x - 1, 2*x^2 - 5*x - 2, 2*x^2 - 5*x - 1, 2*x^2 - 5*x, 2*x^2 - 5*x + 1, 2*x^2 - 5*x + 2, 2*x^2 - 5*x + 3, 2*x^2 - 5*x + 4, x^2 + 10*x + 2, x^2 + 10*x + 3, -2*x^2 + 7*x + 3, -2*x^2 + 7*x + 4, -2*x^2 + 7*x + 5, -2*x^2 + 7*x + 6, -2*x^2 + 7*x + 7, 4*x^2 - 3*x - 2, 4*x^2 - 4*x - 2, 4*x^2 - 4*x - 1, 4*x^2 - 4*x, 4*x^2 - 4*x + 1, 4*x^2 - 4*x + 2, 4*x^2 - 4*x + 3, 4*x^2 - 4*x + 4, -2*x^2 + 6*x + 7, x^2 + 8*x + 8, 2*x^2 + 2*x - 2, 2*x^2 - 2*x + 5, 2*x^2 - 2*x + 6, x^2 + 7*x + 8, x^2 + 2*x - 2, x^2 + 6*x + 8, 2*x - 2, x^2 + 5*x + 8, x^2 + 4*x + 8, 2*x^2 + 3*x + 6, 2*x^2 + 3*x + 7, 3*x^2 - x - 2, 3*x^2 - 2*x - 2, 3*x^2 - 3*x - 2, 3*x^2 - 4*x - 2, 3*x^2 - 4*x - 1, 3*x^2 - 4*x, 3*x^2 - 4*x + 1, 3*x^2 - 4*x + 2, 3*x^2 - 4*x + 3, 3*x^2 - 4*x + 4, 3*x^2 - 5*x - 2, 3*x^2 - 5*x - 1, 3*x^2 - 5*x, 3*x^2 - 5*x + 1, 3*x^2 - 5*x + 2, 3*x^2 - 5*x + 3, 3*x^2 - 5*x + 4, x^2 + 5, x^2 + 6, x^2 - 3*x + 5, 2*x^2 + 5, 2*x^2 + 6, 2*x^2 - 3*x + 5]\n",
      " - Initial state: q_0 = [('q_0', 0)]\n",
      " - Terminal function: omega(Q) = [(('q_0', 0), []), (('q_1', 0), [0]), (('q_2', 0), [0, 0, 0]), (0, [0, 0, 0]), (1, [0, 0, 1]), (2, [0, 0, 2]), (3, [0, 0, 3]), (4, [0, 1, 0]), (5, [0, 1, 1]), (6, [0, 1, 2]), (('q_2', 1), [0, 0, 1]), (x, [0, 1, 0]), (x + 1, [0, 1, 1]), (x + 2, [0, 1, 2]), (x + 3, [0, 1, 3]), (x + 4, [0, 2, 0]), (x + 5, [0, 2, 1]), (x + 6, [0, 2, 2]), (('q_2', 2), [0, 0, 2]), (2*x, [0, 2, 0]), (2*x + 1, [0, 2, 1]), (2*x + 2, [0, 2, 2]), (2*x + 3, [0, 2, 3]), (2*x + 4, [0, 3, 0]), (2*x + 5, [0, 3, 1]), (2*x + 6, [0, 3, 2]), (('q_2', 3), [0, 0, 3]), (3*x, [0, 3, 0]), (3*x + 1, [0, 3, 1]), (3*x + 2, [0, 3, 2]), (3*x + 3, [0, 3, 3]), (3*x + 4, [1, 0, 0]), (3*x + 5, [1, 0, 1]), (3*x + 6, [1, 0, 2]), (('q_2', 4), [0, 1, 0]), (4*x, [1, 0, 0]), (4*x + 1, [1, 0, 1]), (4*x + 2, [1, 0, 2]), (4*x + 3, [1, 0, 3]), (4*x + 4, [1, 1, 0]), (4*x + 5, [1, 1, 1]), (4*x + 6, [1, 1, 2]), (('q_2', 5), [0, 1, 1]), (5*x, [1, 1, 0]), (5*x + 1, [1, 1, 1]), (5*x + 2, [1, 1, 2]), (5*x + 3, [1, 1, 3]), (5*x + 4, [1, 2, 0]), (5*x + 5, [1, 2, 1]), (5*x + 6, [1, 2, 2]), (('q_2', 6), [0, 1, 2]), (6*x, [1, 2, 0]), (6*x + 1, [1, 2, 1]), (6*x + 2, [1, 2, 2]), (6*x + 3, [1, 2, 3]), (6*x + 4, [1, 3, 0]), (6*x + 5, [1, 3, 1]), (6*x + 6, [1, 3, 2]), (3*x^2 + 3*x - 1, [3, 2, 3]), (3*x^2 + 3*x, [3, 3, 0]), (3*x^2, [3, 0, 0]), (3*x^2 + 1, [3, 0, 1]), (3*x^2 + 2, [3, 0, 2]), (3*x^2 + 3, [3, 0, 3]), (3*x^2 + 4, [3, 1, 0]), (3*x^2 + 5, [3, 1, 1]), (3*x^2 + 6, [3, 1, 2]), (3*x^2 - x, [2, 3, 0]), (3*x^2 - x + 1, [2, 3, 1]), (3*x^2 - x + 2, [2, 3, 2]), (3*x^2 - x + 3, [2, 3, 3]), (3*x^2 - x + 4, [3, 0, 0]), (3*x^2 - x + 5, [3, 0, 1]), (3*x^2 - x + 6, [3, 0, 2]), (-x^2 + 6*x, [0, 2, 0]), (-x^2 + 6*x + 1, [0, 2, 1]), (-x^2 + 6*x + 2, [0, 2, 2]), (-x^2 + 6*x + 3, [0, 2, 3]), (-x^2 + 6*x + 4, [0, 3, 0]), (-x^2 + 6*x + 5, [0, 3, 1]), (-x^2 + 6*x + 6, [0, 3, 2]), (3*x^2 + 2*x - 1, [3, 1, 3]), (3*x^2 + 2*x, [3, 2, 0]), (3*x^2 + 2*x + 1, [3, 2, 1]), (3*x^2 + 2*x + 2, [3, 2, 2]), (3*x^2 + 2*x + 3, [3, 2, 3]), (3*x^2 + 2*x + 4, [3, 3, 0]), (-x + 4, [0, 0, 0]), (-x^2 + 4*x, [0, 0, 0]), (-x^2 + 4*x + 1, [0, 0, 1]), (-x^2 + 4*x + 2, [0, 0, 2]), (-x^2 + 4*x + 3, [0, 0, 3]), (-x^2 + 4*x + 4, [0, 1, 0]), (-x^2 + 4*x + 5, [0, 1, 1]), (-x^2 + 4*x + 6, [0, 1, 2]), (x^2 + 3*x - 1, [1, 2, 3]), (x^2 + 3*x, [1, 3, 0]), (x^2 + 3*x + 1, [1, 3, 1]), (x^2 + 3*x + 2, [1, 3, 2]), (x^2 + 3*x + 3, [1, 3, 3]), (x^2 + 3*x + 4, [2, 0, 0]), (x^2 + 3*x + 5, [2, 0, 1]), (2*x - 1, [0, 1, 3]), (2*x^2 - x, [1, 3, 0]), (2*x^2 - x + 1, [1, 3, 1]), (2*x^2 - x + 2, [1, 3, 2]), (2*x^2 - x + 3, [1, 3, 3]), (2*x^2 - x + 4, [2, 0, 0]), (2*x^2 - x + 5, [2, 0, 1]), (2*x^2 - x + 6, [2, 0, 2]), (-x^2 + 5*x, [0, 1, 0]), (-x^2 + 5*x + 1, [0, 1, 1]), (-x^2 + 5*x + 2, [0, 1, 2]), (-x^2 + 5*x + 3, [0, 1, 3]), (-x^2 + 5*x + 4, [0, 2, 0]), (-x^2 + 5*x + 5, [0, 2, 1]), (-x^2 + 5*x + 6, [0, 2, 2]), (2*x^2 + 3*x - 1, [2, 2, 3]), (2*x^2 + 3*x, [2, 3, 0]), (2*x^2 + 3*x + 1, [2, 3, 1]), (2*x^2 + 3*x + 2, [2, 3, 2]), (2*x^2 + 3*x + 3, [2, 3, 3]), (2*x^2 + 3*x + 4, [3, 0, 0]), (2*x^2 + 3*x + 5, [3, 0, 1]), (x - 1, [0, 0, 3]), (x^2 - x, [0, 3, 0]), (x^2 - x + 1, [0, 3, 1]), (x^2 - x + 2, [0, 3, 2]), (x^2 - x + 3, [0, 3, 3]), (x^2 - x + 4, [1, 0, 0]), (x^2 - x + 5, [1, 0, 1]), (x^2 - x + 6, [1, 0, 2]), (2*x^2 + 6*x + 1, [3, 2, 1]), (2*x^2 + 6*x + 2, [3, 2, 2]), (2*x^2 + 6*x + 3, [3, 2, 3]), (2*x^2 + 6*x + 4, [3, 3, 0]), (-x^2 + 3*x + 4, [0, 0, 0]), (-x^2 + 3*x + 5, [0, 0, 1]), (-x^2 + 3*x + 6, [0, 0, 2]), (3*x - 1, [0, 2, 3]), (3*x^2 + x - 1, [3, 0, 3]), (3*x^2 + x, [3, 1, 0]), (3*x^2 + x + 1, [3, 1, 1]), (3*x^2 + x + 2, [3, 1, 2]), (3*x^2 + x + 3, [3, 1, 3]), (3*x^2 + x + 4, [3, 2, 0]), (3*x^2 + x + 5, [3, 2, 1]), (x^2 + 5*x, [2, 1, 0]), (x^2 + 5*x + 1, [2, 1, 1]), (x^2 + 5*x + 2, [2, 1, 2]), (x^2 + 5*x + 3, [2, 1, 3]), (x^2 + 5*x + 4, [2, 2, 0]), (x^2 + 5*x + 5, [2, 2, 1]), (x^2 + 5*x + 6, [2, 2, 2]), (2*x^2 + 2*x - 1, [2, 1, 3]), (2*x^2 + 2*x, [2, 2, 0]), (2*x^2 + 2*x + 1, [2, 2, 1]), (2*x^2 + 2*x + 2, [2, 2, 2]), (2*x^2 + 2*x + 3, [2, 2, 3]), (2*x^2 + 2*x + 4, [2, 3, 0]), (2*x^2 + 2*x + 5, [2, 3, 1]), (2*x^2 + 5*x, [3, 1, 0]), (2*x^2 + 5*x + 1, [3, 1, 1]), (2*x^2 + 5*x + 2, [3, 1, 2]), (2*x^2 + 5*x + 3, [3, 1, 3]), (2*x^2 + 5*x + 4, [3, 2, 0]), (2*x^2 + 5*x + 5, [3, 2, 1]), (2*x^2 + 5*x + 6, [3, 2, 2]), (2*x^2 + x - 1, [2, 0, 3]), (2*x^2 + x, [2, 1, 0]), (2*x^2 + x + 1, [2, 1, 1]), (2*x^2 + x + 2, [2, 1, 2]), (2*x^2 + x + 3, [2, 1, 3]), (2*x^2 + x + 4, [2, 2, 0]), (2*x^2 + x + 5, [2, 2, 1]), (x^2 + 4*x, [2, 0, 0]), (x^2 + 4*x + 1, [2, 0, 1]), (x^2 + 4*x + 2, [2, 0, 2]), (x^2 + 4*x + 3, [2, 0, 3]), (x^2 + 4*x + 4, [2, 1, 0]), (x^2 + 4*x + 5, [2, 1, 1]), (x^2 + 4*x + 6, [2, 1, 2]), (x^2 + 2*x - 1, [1, 1, 3]), (x^2 + 2*x, [1, 2, 0]), (x^2 + 2*x + 1, [1, 2, 1]), (x^2 + 2*x + 2, [1, 2, 2]), (x^2 + 2*x + 3, [1, 2, 3]), (x^2 + 2*x + 4, [1, 3, 0]), (x^2 + 2*x + 5, [1, 3, 1]), (2*x^2 + 4*x, [3, 0, 0]), (2*x^2 + 4*x + 1, [3, 0, 1]), (2*x^2 + 4*x + 2, [3, 0, 2]), (2*x^2 + 4*x + 3, [3, 0, 3]), (2*x^2 + 4*x + 4, [3, 1, 0]), (2*x^2 + 4*x + 5, [3, 1, 1]), (2*x^2 + 4*x + 6, [3, 1, 2]), (x^2 + x - 1, [1, 0, 3]), (x^2 + x, [1, 1, 0]), (x^2 + x + 1, [1, 1, 1]), (x^2 + x + 2, [1, 1, 2]), (x^2 + x + 3, [1, 1, 3]), (x^2 + x + 4, [1, 2, 0]), (x^2 + x + 5, [1, 2, 1]), (x^2 + 3*x + 6, [2, 0, 2]), (x^2 + 2*x + 6, [1, 3, 2]), (2*x^2 + 6*x, [3, 2, 0]), (3*x^2 - 3*x - 1, [2, 0, 3]), (3*x^2 - 3*x, [2, 1, 0]), (3*x^2 - 3*x + 1, [2, 1, 1]), (3*x^2 - 3*x + 2, [2, 1, 2]), (3*x^2 - 3*x + 3, [2, 1, 3]), (3*x^2 - 3*x + 4, [2, 2, 0]), (3*x^2 - 3*x + 5, [2, 2, 1]), (8*x + 1, [2, 0, 1]), (8*x + 2, [2, 0, 2]), (8*x + 3, [2, 0, 3]), (8*x + 4, [2, 1, 0]), (8*x + 5, [2, 1, 1]), (8*x + 6, [2, 1, 2]), (8*x + 7, [2, 1, 3]), (2*x^2 + x - 2, [2, 0, 2]), (x^2 - 2*x, [0, 2, 0]), (x^2 - 2*x + 1, [0, 2, 1]), (x^2 - 2*x + 2, [0, 2, 2]), (x^2 - 2*x + 3, [0, 2, 3]), (x^2 - 2*x + 4, [0, 3, 0]), (x^2 - 2*x + 5, [0, 3, 1]), (x^2 - 2*x + 6, [0, 3, 2]), (x^2 + 9*x + 1, [3, 1, 1]), (x^2 + 9*x + 2, [3, 1, 2]), (x^2 + 9*x + 3, [3, 1, 3]), (x^2 + 9*x + 4, [3, 2, 0]), (x^2 + 9*x + 5, [3, 2, 1]), (x^2 + 9*x + 6, [3, 2, 2]), (x^2 + 9*x + 7, [3, 2, 3]), (3*x^2 + x - 2, [3, 0, 2]), (3*x^2 - 2, [2, 3, 2]), (3*x^2 - 1, [2, 3, 3]), (-x + 5, [0, 0, 1]), (-x + 6, [0, 0, 2]), (3*x^2 + x + 6, [3, 2, 2]), (3*x^2 + x + 7, [3, 2, 3]), (x^2 + 7*x, [2, 3, 0]), (x^2 + 7*x + 1, [2, 3, 1]), (x^2 + 7*x + 2, [2, 3, 2]), (x^2 + 7*x + 3, [2, 3, 3]), (x^2 + 7*x + 4, [3, 0, 0]), (x^2 + 7*x + 5, [3, 0, 1]), (x^2 + 7*x + 6, [3, 0, 2]), (x^2 - 2, [0, 3, 2]), (x^2 - 1, [0, 3, 3]), (x^2, [1, 0, 0]), (x^2 + 1, [1, 0, 1]), (x^2 + 2, [1, 0, 2]), (x^2 + 3, [1, 0, 3]), (x^2 + 4, [1, 1, 0]), (x^2 - x - 2, [0, 2, 2]), (x^2 - x - 1, [0, 2, 3]), (2*x^2 + 2*x + 6, [2, 3, 2]), (2*x^2 + 2*x + 7, [2, 3, 3]), (2*x^2 + 7*x, [3, 3, 0]), (4*x^2 - 3*x - 1, [3, 0, 3]), (4*x^2 - 3*x, [3, 1, 0]), (4*x^2 - 3*x + 1, [3, 1, 1]), (4*x^2 - 3*x + 2, [3, 1, 2]), (4*x^2 - 3*x + 3, [3, 1, 3]), (4*x^2 - 3*x + 4, [3, 2, 0]), (4*x^2 - 3*x + 5, [3, 2, 1]), (7*x + 1, [1, 3, 1]), (7*x + 2, [1, 3, 2]), (7*x + 3, [1, 3, 3]), (7*x + 4, [2, 0, 0]), (7*x + 5, [2, 0, 1]), (7*x + 6, [2, 0, 2]), (7*x + 7, [2, 0, 3]), (x^2 + x - 2, [1, 0, 2]), (x^2 - 2*x - 2, [0, 1, 2]), (x^2 - 2*x - 1, [0, 1, 3]), (x^2 + 2*x + 7, [1, 3, 3]), (x^2 + x + 6, [1, 2, 2]), (x^2 + x + 7, [1, 2, 3]), (x^2 + 6*x, [2, 2, 0]), (x^2 + 6*x + 1, [2, 2, 1]), (x^2 + 6*x + 2, [2, 2, 2]), (x^2 + 6*x + 3, [2, 2, 3]), (x^2 + 6*x + 4, [2, 3, 0]), (x^2 + 6*x + 5, [2, 3, 1]), (x^2 + 6*x + 6, [2, 3, 2]), (3*x^2 - x - 1, [2, 2, 3]), (3*x^2 - 2*x - 1, [2, 1, 3]), (3*x^2 - 2*x, [2, 2, 0]), (3*x^2 - 2*x + 1, [2, 2, 1]), (3*x^2 - 2*x + 2, [2, 2, 2]), (3*x^2 - 2*x + 3, [2, 2, 3]), (3*x^2 - 2*x + 4, [2, 3, 0]), (3*x^2 - 2*x + 5, [2, 3, 1]), (x^2 + 8*x + 1, [3, 0, 1]), (x^2 + 8*x + 2, [3, 0, 2]), (x^2 + 8*x + 3, [3, 0, 3]), (x^2 + 8*x + 4, [3, 1, 0]), (x^2 + 8*x + 5, [3, 1, 1]), (x^2 + 8*x + 6, [3, 1, 2]), (x^2 + 8*x + 7, [3, 1, 3]), (2*x^2 - 2, [1, 3, 2]), (2*x^2 - 1, [1, 3, 3]), (2*x^2, [2, 0, 0]), (2*x^2 + 1, [2, 0, 1]), (2*x^2 + 2, [2, 0, 2]), (2*x^2 + 3, [2, 0, 3]), (2*x^2 + 4, [2, 1, 0]), (2*x^2 - x - 2, [1, 2, 2]), (2*x^2 - x - 1, [1, 2, 3]), (2*x^2 + x + 6, [2, 2, 2]), (2*x^2 + x + 7, [2, 2, 3]), (2*x^2 - 2*x - 2, [1, 1, 2]), (2*x^2 - 2*x - 1, [1, 1, 3]), (2*x^2 - 2*x, [1, 2, 0]), (2*x^2 - 2*x + 1, [1, 2, 1]), (2*x^2 - 2*x + 2, [1, 2, 2]), (2*x^2 - 2*x + 3, [1, 2, 3]), (2*x^2 - 2*x + 4, [1, 3, 0]), (x^2 + 7*x + 7, [3, 0, 3]), (x^2 + 6*x + 7, [2, 3, 3]), (x - 2, [0, 0, 2]), (x^2 + 5*x + 7, [2, 2, 3]), (2*x^2 + 4*x - 1, [2, 3, 3]), (4*x^2 - x, [3, 3, 0]), (4*x^2 - x + 1, [3, 3, 1]), (x^2 - 4*x + 1, [0, 0, 1]), (x^2 - 4*x + 2, [0, 0, 2]), (x^2 - 4*x + 3, [0, 0, 3]), (x^2 - 4*x + 4, [0, 1, 0]), (x^2 - 4*x + 5, [0, 1, 1]), (-x^2 + 8*x + 1, [1, 0, 1]), (-x^2 + 8*x + 2, [1, 0, 2]), (-x^2 + 8*x + 3, [1, 0, 3]), (-x^2 + 8*x + 4, [1, 1, 0]), (-x^2 + 8*x + 5, [1, 1, 1]), (-x^2 + 8*x + 6, [1, 1, 2]), (-x^2 + 8*x + 7, [1, 1, 3]), (2*x^2 - 3*x - 2, [1, 0, 2]), (2*x^2 - 3*x - 1, [1, 0, 3]), (2*x^2 - 3*x, [1, 1, 0]), (2*x^2 - 3*x + 1, [1, 1, 1]), (2*x^2 - 3*x + 2, [1, 1, 2]), (2*x^2 - 3*x + 3, [1, 1, 3]), (2*x^2 - 3*x + 4, [1, 2, 0]), (6*x + 7, [1, 3, 3]), (5*x + 7, [1, 2, 3]), (4*x + 7, [1, 1, 3]), (x^2 + 4*x - 1, [1, 3, 3]), (3*x + 7, [1, 0, 3]), (4*x - 1, [0, 3, 3]), (2*x + 7, [0, 3, 3]), (x + 7, [0, 2, 3]), (2*x^2 - 4*x - 2, [0, 3, 2]), (2*x^2 - 4*x - 1, [0, 3, 3]), (2*x^2 - 4*x, [1, 0, 0]), (2*x^2 - 4*x + 1, [1, 0, 1]), (2*x^2 - 4*x + 2, [1, 0, 2]), (2*x^2 - 4*x + 3, [1, 0, 3]), (2*x^2 - 4*x + 4, [1, 1, 0]), (-x^2 + 7*x + 1, [0, 3, 1]), (-x^2 + 7*x + 2, [0, 3, 2]), (-x^2 + 7*x + 3, [0, 3, 3]), (-x^2 + 7*x + 4, [1, 0, 0]), (-x^2 + 7*x + 5, [1, 0, 1]), (-x^2 + 7*x + 6, [1, 0, 2]), (-x^2 + 7*x + 7, [1, 0, 3]), (x^2 - 3*x - 2, [0, 0, 2]), (x^2 - 3*x - 1, [0, 0, 3]), (x^2 - 3*x, [0, 1, 0]), (x^2 - 3*x + 1, [0, 1, 1]), (x^2 - 3*x + 2, [0, 1, 2]), (x^2 - 3*x + 3, [0, 1, 3]), (x^2 - 3*x + 4, [0, 2, 0]), (4*x^2 - x - 1, [3, 2, 3]), (4*x^2 - 2*x - 1, [3, 1, 3]), (4*x^2 - 2*x, [3, 2, 0]), (4*x^2 - 2*x + 1, [3, 2, 1]), (4*x^2 - 2*x + 2, [3, 2, 2]), (4*x^2 - 2*x + 3, [3, 2, 3]), (4*x^2 - 2*x + 4, [3, 3, 0]), (4*x^2 - 2*x + 5, [3, 3, 1]), (x^2 + 4*x + 7, [2, 1, 3]), (x^2 + 3*x + 7, [2, 0, 3]), (-x^2 + 6*x + 7, [0, 3, 3]), (-x^2 + 5*x + 7, [0, 2, 3]), (-x^2 + 4*x + 7, [0, 1, 3]), (-x^2 + 3*x + 7, [0, 0, 3]), (2*x^2 + 5*x + 7, [3, 2, 3]), (2*x^2 + 5*x + 8, [3, 3, 0]), (2*x^2 + 5*x - 1, [3, 0, 3]), (2*x^2 - 4*x + 5, [1, 1, 1]), (2*x^2 + 4*x + 7, [3, 1, 3]), (2*x^2 + 4*x + 8, [3, 2, 0]), (x^2 + 5*x - 1, [2, 0, 3]), (2*x^2 - 5*x - 2, [0, 2, 2]), (2*x^2 - 5*x - 1, [0, 2, 3]), (2*x^2 - 5*x, [0, 3, 0]), (2*x^2 - 5*x + 1, [0, 3, 1]), (2*x^2 - 5*x + 2, [0, 3, 2]), (2*x^2 - 5*x + 3, [0, 3, 3]), (2*x^2 - 5*x + 4, [1, 0, 0]), (x^2 + 10*x + 2, [3, 2, 2]), (x^2 + 10*x + 3, [3, 2, 3]), (-2*x^2 + 7*x + 3, [0, 0, 0]), (-2*x^2 + 7*x + 4, [0, 0, 0]), (-2*x^2 + 7*x + 5, [0, 0, 1]), (-2*x^2 + 7*x + 6, [0, 0, 2]), (-2*x^2 + 7*x + 7, [0, 0, 3]), (4*x^2 - 3*x - 2, [3, 0, 2]), (4*x^2 - 4*x - 2, [2, 3, 2]), (4*x^2 - 4*x - 1, [2, 3, 3]), (4*x^2 - 4*x, [3, 0, 0]), (4*x^2 - 4*x + 1, [3, 0, 1]), (4*x^2 - 4*x + 2, [3, 0, 2]), (4*x^2 - 4*x + 3, [3, 0, 3]), (4*x^2 - 4*x + 4, [3, 1, 0]), (-2*x^2 + 6*x + 7, [0, 0, 0]), (x^2 + 8*x + 8, [3, 2, 0]), (2*x^2 + 2*x - 2, [2, 1, 2]), (2*x^2 - 2*x + 5, [1, 3, 1]), (2*x^2 - 2*x + 6, [1, 3, 2]), (x^2 + 7*x + 8, [3, 1, 0]), (x^2 + 2*x - 2, [1, 1, 2]), (x^2 + 6*x + 8, [3, 0, 0]), (2*x - 2, [0, 1, 2]), (x^2 + 5*x + 8, [2, 3, 0]), (x^2 + 4*x + 8, [2, 2, 0]), (2*x^2 + 3*x + 6, [3, 0, 2]), (2*x^2 + 3*x + 7, [3, 0, 3]), (3*x^2 - x - 2, [2, 2, 2]), (3*x^2 - 2*x - 2, [2, 1, 2]), (3*x^2 - 3*x - 2, [2, 0, 2]), (3*x^2 - 4*x - 2, [1, 3, 2]), (3*x^2 - 4*x - 1, [1, 3, 3]), (3*x^2 - 4*x, [2, 0, 0]), (3*x^2 - 4*x + 1, [2, 0, 1]), (3*x^2 - 4*x + 2, [2, 0, 2]), (3*x^2 - 4*x + 3, [2, 0, 3]), (3*x^2 - 4*x + 4, [2, 1, 0]), (3*x^2 - 5*x - 2, [1, 2, 2]), (3*x^2 - 5*x - 1, [1, 2, 3]), (3*x^2 - 5*x, [1, 3, 0]), (3*x^2 - 5*x + 1, [1, 3, 1]), (3*x^2 - 5*x + 2, [1, 3, 2]), (3*x^2 - 5*x + 3, [1, 3, 3]), (3*x^2 - 5*x + 4, [2, 0, 0]), (x^2 + 5, [1, 1, 1]), (x^2 + 6, [1, 1, 2]), (x^2 - 3*x + 5, [0, 2, 1]), (2*x^2 + 5, [2, 1, 1]), (2*x^2 + 6, [2, 1, 2]), (2*x^2 - 3*x + 5, [1, 2, 1])]\n",
      "Test: Convert the string [0, 6, 6, 6, 6, 6, 6]\n",
      "Result: (True, 2*x + 5, [2, 0, 1, 2, 0, 3, 1])\n"
     ]
    }
   ],
   "source": [
    "CACConverter.print_converter()\n"
   ]
  },
  {
   "cell_type": "code",
   "execution_count": null,
   "metadata": {},
   "outputs": [],
   "source": []
  }
 ],
 "metadata": {
  "kernelspec": {
   "display_name": "SageMath 9.0",
   "language": "sage",
   "name": "sagemath"
  },
  "language_info": {
   "codemirror_mode": {
    "name": "ipython",
    "version": 3
   },
   "file_extension": ".py",
   "mimetype": "text/x-python",
   "name": "python",
   "nbconvert_exporter": "python",
   "pygments_lexer": "ipython3",
   "version": "3.7.3"
  }
 },
 "nbformat": 4,
 "nbformat_minor": 2
}
